{
 "cells": [
  {
   "cell_type": "markdown",
   "id": "5c84280e-9200-4c51-bbca-be6993a95466",
   "metadata": {
    "tags": []
   },
   "source": [
    "### Interactive Maps: An exploration with Folium\n",
    "\n",
    "The world of online maps is a playground for the curious! Digital cartographies offer more than just static images such as interactive zooming, panning across areas and retrieving results from various queries.This is typically done through the use of of JavaScipt.In our case, we find [Leaflet](https://leafletjs.com/), a lightweight and user-friendly library, and [OpenLayers](https://openlayers.org/), known for its extensive mapping features. However we  won't delve into the JavaScript coding. This is a Python course and we will be using  the [Folium](https://python-visualization.github.io/folium/) Python package, a tool that bridges the gap between the Leaflet library and Python's capabilities. With Folium, we'll transform data housed in [geopandas.GeoDataFrames](https://geopandas.org/en/stable/docs/user_guide/data_structures.html) into interactive Python elements.\n"
   ]
  },
  {
   "cell_type": "markdown",
   "id": "16e329cc-0f32-46c7-9fc5-7917816994d5",
   "metadata": {},
   "source": [
    "**Find more information about the capabilities of the *Folium* package on its official web pages:**\n",
    "\n",
    "- **Documentation**: [Explore the official documentation](https://python-visualization.github.io/folium/) for comprehensive details on Folium's features and how to use them.\n",
    "- **Example gallery**: [View the example gallery](https://nbviewer.org/github/python-visualization/folium/tree/main/examples/) to see Folium in action, with various maps and visualizations created using the package.\n",
    "- **Quickstart tutorial**: [Start with the Quickstart tutorial](https://python-visualization.github.io/folium/quickstart.html#Getting-Started) for a hands-on introduction to creating your first interactive map with Folium.\n",
    "\n",
    "Dive into these resources to unlock the full potential of interactive map-making with Folium in your projects.\n"
   ]
  },
  {
   "cell_type": "markdown",
   "id": "2e466cae-772e-4baa-a33f-116b2f6b6081",
   "metadata": {},
   "source": [
    "### Create a simple interactive web map"
   ]
  },
  {
   "cell_type": "markdown",
   "id": "648b1eb8-52f5-4bc2-aec5-649d6c359f34",
   "metadata": {},
   "source": [
    "\n",
    "\n",
    "Our journey into the world of interactive web mapping begins with a simple yet foundational step: creating a basic web map that features solely a base map. This initial exercise is designed to familiarize us with Folium's syntax, guiding us through the essential steps and conventions used in the library.\n",
    "\n",
    "**Creating a Map with Folium:**\n",
    "\n",
    "1. **Initialize a Map Object**: We start by crafting a `folium.Map` object. This involves specifying a central point (`location`) around which the map will be centered and setting an initial zoom level (ranging from `0` to `20`). This zoom level dictates how close or far away the map appears upon loading.\n",
    "\n",
    "2. **Add a Scale Bar**: By enabling the `control_scale` parameter (`control_scale=True`), we instruct Folium to display a scale bar on the map. This scale bar adds a valuable reference for understanding distances and the scale of map features.\n",
    "\n",
    "This process lays the groundwork for our exploration of interactive web mapping, setting the stage for more complex and data-rich visualizations.\n"
   ]
  },
  {
   "cell_type": "code",
   "execution_count": null,
   "id": "2f6a34a1-7a92-4d1d-bff5-29db9d7682e4",
   "metadata": {
    "tags": []
   },
   "outputs": [],
   "source": [
    "import pathlib\n",
    "NOTEBOOK_PATH = pathlib.Path().resolve()\n",
    "DATA_DIRECTORY = NOTEBOOK_PATH / \"data\"\n",
    "\n",
    "# We will export HTML pages during this lesson,\n",
    "# let’s also prepare an output directory for them:\n",
    "HTML_DIRECTORY = NOTEBOOK_PATH / \"html\"\n",
    "HTML_DIRECTORY.mkdir(exist_ok=True)"
   ]
  },
  {
   "cell_type": "code",
   "execution_count": null,
   "id": "97a80679-72f6-4296-808c-16b4d3d0c31f",
   "metadata": {
    "scrolled": true,
    "tags": []
   },
   "outputs": [],
   "source": [
    "import folium\n",
    "\n",
    "interactive_map = folium.Map(\n",
    "    location=(59.33, 18.06),\n",
    "    zoom_start=10,\n",
    "    control_scale=True\n",
    ")\n",
    "\n",
    "interactive_map"
   ]
  },
  {
   "cell_type": "code",
   "execution_count": null,
   "id": "6e6a3719-5087-4cdf-ad74-e9b43bacac70",
   "metadata": {
    "tags": []
   },
   "outputs": [],
   "source": [
    "interactive_map.save(HTML_DIRECTORY / \"base-map.html\")"
   ]
  },
  {
   "cell_type": "markdown",
   "id": "d27b48e3-bafa-45e4-8f24-8bb460ab1aae",
   "metadata": {},
   "source": [
    "### Change the base map"
   ]
  },
  {
   "cell_type": "markdown",
   "id": "dbeb6080-936a-4d38-a180-af8ee9e4eca2",
   "metadata": {},
   "source": [
    "\n",
    "\n",
    "Folium's flexibility extends to its ability to use various base layers, not just the default OpenStreetMap. When creating a `folium.Map`, the `tiles` parameter opens the door to customization, allowing you to either select from built-in map providers or specify a custom tileset URL to tailor the map's appearance to your needs.\n",
    "\n",
    "**Adjusting Map Center and Zoom Level:ding. By adjusting the `location` parameter, you can set a new center for your map exploration. Similarly, changing the `zoom_start` parameter lets you fine-tune the initial zoom level, providing a closer look or a broader overview based on your prefereploring.\n"
   ]
  },
  {
   "cell_type": "code",
   "execution_count": null,
   "id": "2b3b5f84-789e-4493-8a44-f6c8351bab22",
   "metadata": {
    "tags": []
   },
   "outputs": [],
   "source": [
    "interactive_map = folium.Map(\n",
    "    location=(59.33, 18.06),\n",
    "    zoom_start=12,\n",
    "    tiles='CartoDB positron'\n",
    ")\n",
    "interactive_map"
   ]
  },
  {
   "cell_type": "markdown",
   "id": "e27b6f14-3fab-4ba9-b5f9-530ad7d535ca",
   "metadata": {
    "tags": []
   },
   "source": [
    "### Add a point marker"
   ]
  },
  {
   "cell_type": "markdown",
   "id": "15841d78-a53c-41a7-8007-1a98d0ca296b",
   "metadata": {},
   "source": [
    "\n",
    "\n",
    "To enrich your Folium map with interactive markers, you can easily integrate a `folium.Marker` into your map. These markers not only pinpoint specific locations but also offer customizable visual styles and interactive toolti.t.\n",
    "\n",
    "**How to Add a Marker:**\n",
    "\n",
    "1. **Create a Marker Object**: Begin by creating a `folium.Marker` instance. This object requires a location parameter, defined by latitude and longitude coordinates, to place the marker on the map.\n",
    "\n",
    "2. **Customize the Marker Icon**: For a personalized touch, customize your marker's appearance by supplying a `folium.Icon` object to the `icon` parameter. This customization can include changing the marker's color, icon style, and more, allowing you to match the marker's look to your map's theme or purpose.\n",
    "\n",
    "3. **Add Interactive Tooltips**: To make your markers informative, you can add a tooltip that displays text when users hover their mouse over the marker. Set the `tooltip` parameter with your desired text to provide additional context or information about the marked location.\n",
    "\n",
    "With these simple steps, you can enhance the interactivity and informational value of your Folium map."
   ]
  },
  {
   "cell_type": "code",
   "execution_count": null,
   "id": "a0b624aa-34bd-4902-9695-340607d3d57c",
   "metadata": {
    "scrolled": true,
    "tags": []
   },
   "outputs": [],
   "source": [
    "interactive_map = folium.Map(\n",
    "    location=(59.33, 18.06),\n",
    "    zoom_start=12\n",
    ")\n",
    "\n",
    "KTH = folium.Marker(\n",
    "    location=(59.3499, 18.0703),\n",
    "    tooltip=\"KTH\",\n",
    "    icon=folium.Icon(color=\"green\", icon=\"ok-sign\")\n",
    ")\n",
    "KTH.add_to(interactive_map)\n",
    "\n",
    "interactive_map"
   ]
  },
  {
   "cell_type": "markdown",
   "id": "c94bb6e7-0c3d-4444-9222-aaf009799d9d",
   "metadata": {},
   "source": [
    "**Incorporating a Layer of Points with Folium**\n",
    "\n",
    "Folium extends its capabilities beyond single markers, allowing for the addition of spatial layers, such as those from `geopandas.GeoDataFrames`. It wraps Leaflet's `geoJSON` layers within its `folium.features.GeoJson` class. This functionality lets us seamlessly integrate geo-data frames as layers into our maps.\n"
   ]
  },
  {
   "cell_type": "code",
   "execution_count": 1,
   "id": "8a36e3ea-645a-4cff-b600-00410f6bb51b",
   "metadata": {
    "tags": []
   },
   "outputs": [
    {
     "ename": "NameError",
     "evalue": "name 'DATA_DIRECTORY' is not defined",
     "output_type": "error",
     "traceback": [
      "\u001b[1;31m---------------------------------------------------------------------------\u001b[0m",
      "\u001b[1;31mNameError\u001b[0m                                 Traceback (most recent call last)",
      "Cell \u001b[1;32mIn[1], line 3\u001b[0m\n\u001b[0;32m      1\u001b[0m \u001b[38;5;28;01mimport\u001b[39;00m \u001b[38;5;21;01mgeopandas\u001b[39;00m\n\u001b[1;32m----> 3\u001b[0m addresses \u001b[38;5;241m=\u001b[39m geopandas\u001b[38;5;241m.\u001b[39mread_file(\u001b[43mDATA_DIRECTORY\u001b[49m \u001b[38;5;241m/\u001b[39m \u001b[38;5;124m\"\u001b[39m\u001b[38;5;124mstockholm_addresses.gpkg\u001b[39m\u001b[38;5;124m\"\u001b[39m)\n\u001b[0;32m      4\u001b[0m addresses\n",
      "\u001b[1;31mNameError\u001b[0m: name 'DATA_DIRECTORY' is not defined"
     ]
    }
   ],
   "source": [
    "import geopandas\n",
    "\n",
    "addresses = geopandas.read_file(DATA_DIRECTORY / \"stockholm_addresses.gpkg\")\n",
    "addresses"
   ]
  },
  {
   "cell_type": "code",
   "execution_count": null,
   "id": "7928486a-df68-4102-8401-1606801795cc",
   "metadata": {
    "tags": []
   },
   "outputs": [],
   "source": [
    "interactive_map = folium.Map(\n",
    "    location=(59.3499, 18.0703),\n",
    "    zoom_start=12\n",
    ")\n",
    "\n",
    "addresses_layer = folium.features.GeoJson(\n",
    "    addresses,\n",
    "    name=\"Landmarks in Stockholm\",\n",
    "    tooltip=folium.features.GeoJsonTooltip(fields=['address'], labels=False)  \n",
    "\n",
    ")\n",
    "addresses_layer.add_to(interactive_map)\n",
    "\n",
    "interactive_map"
   ]
  },
  {
   "cell_type": "markdown",
   "id": "15043bb3-c5d0-4ad7-9262-f957e652e769",
   "metadata": {},
   "source": [
    "### Add a polygon layer\n",
    "\n",
    "In the following section we are going to revisit another data set with which we have worked before: DeSO administrative delineation over Stockholm from the SCB open data WFS endpoint:"
   ]
  },
  {
   "cell_type": "code",
   "execution_count": null,
   "id": "44c68172-6f93-473b-b9b2-78e2dd6b7430",
   "metadata": {
    "tags": []
   },
   "outputs": [],
   "source": [
    "import ssl\n",
    "ssl._create_default_https_context = ssl._create_unverified_context\n",
    "\n",
    "# Define the base URL for the WFS request\n",
    "WFS_BASE_URL = (\n",
    "    \"http://geodata.scb.se/geoserver/stat/wfs\"\n",
    "    \"?service=wfs\"\n",
    "    \"&version=1.1.0\"\n",
    "    \"&request=GetFeature\"\n",
    "    \"&srsName=EPSG:3006\"\n",
    "    \"&typeName={layer:s}\"\n",
    ")\n",
    "\n",
    "# Specify the layer you're interested in\n",
    "# For this example, we use \"DeSO.2018\" as mentioned in the document\n",
    "layer_name = \"DeSO.2018\"\n",
    "\n",
    "# Fetch the data using GeoPandas\n",
    "deso = geopandas.read_file(\n",
    "    WFS_BASE_URL.format(layer=layer_name)\n",
    ").set_crs(\"EPSG:3006\")\n",
    "\n",
    "# Display the first few rows of the data\n",
    "print(deso.head())"
   ]
  },
  {
   "cell_type": "markdown",
   "id": "68a1eaac-7687-4eee-933a-ee64f73745dc",
   "metadata": {},
   "source": [
    "Let’s first clean the data frame: drop all columns we don’t need, and rename the remaining ones to English."
   ]
  },
  {
   "cell_type": "code",
   "execution_count": null,
   "id": "39066021-d102-482a-ae2c-7e5b317e0f4e",
   "metadata": {
    "tags": []
   },
   "outputs": [],
   "source": [
    "deso = deso[[\"deso\", \"kommunnamn\",\"kommun\", \"geometry\"]]\n",
    "deso = deso.rename(columns={\n",
    "    \"kommunnamn\": \"municipality\"\n",
    "})"
   ]
  },
  {
   "cell_type": "markdown",
   "id": "1a78244a-ef2a-4f1c-ad14-24381fadef1a",
   "metadata": {},
   "source": [
    "We will use a similar approach with a `GeoJson`layer to display the DeSO/Munipality polygons. "
   ]
  },
  {
   "cell_type": "code",
   "execution_count": null,
   "id": "7b34202c-b45d-4dca-8334-504058715db8",
   "metadata": {
    "tags": []
   },
   "outputs": [],
   "source": [
    "\n",
    "deso[\"deso\"] = deso.index.astype(str)\n"
   ]
  },
  {
   "cell_type": "code",
   "execution_count": null,
   "id": "d3f65f17-c3d0-43be-8c39-9af40abf49b5",
   "metadata": {
    "scrolled": true
   },
   "outputs": [],
   "source": [
    "\n",
    "# Function to style the features based on the 'municipality' data\n",
    "def style_function(feature):\n",
    "    return {\n",
    "        'fillColor': '#ffaf00', \n",
    "        'color': 'black',\n",
    "        'weight': 2,\n",
    "        'dashArray': '5, 5'\n",
    "    }\n",
    "\n",
    "# Create the map\n",
    "interactive_map = folium.Map(\n",
    "    location=(59.3499, 18.0703),\n",
    "    zoom_start=12\n",
    ")\n",
    "\n",
    "# Add GeoJson layer\n",
    "population_grid_layer = folium.GeoJson(\n",
    "    data=deso,\n",
    "    style_function=style_function,  # Apply styling to each feature\n",
    "    tooltip=folium.features.GeoJsonTooltip(fields=['deso', 'municipality']),  \n",
    ").add_to(interactive_map)\n",
    "\n",
    "interactive_map\n"
   ]
  },
  {
   "cell_type": "code",
   "execution_count": null,
   "id": "37367534-4011-4e2e-b9d3-5dd3d15d23f6",
   "metadata": {},
   "outputs": [],
   "source": []
  },
  {
   "cell_type": "code",
   "execution_count": null,
   "id": "b86a5cb6-0d3c-4781-b124-8be408a86fcb",
   "metadata": {},
   "outputs": [],
   "source": [
    "ssl._create_default_https_context = ssl._create_unverified_context\n",
    "\n",
    "# Define the base URL for the WFS request\n",
    "WFS_BASE_URL = (\n",
    "    \"http://geodata.scb.se/geoserver/stat/wfs\"\n",
    "    \"?service=wfs\"\n",
    "    \"&version=1.1.0\"\n",
    "    \"&request=GetFeature\"\n",
    "    \"&srsName=EPSG:3006\"\n",
    "    \"&typeName={layer:s}\"\n",
    ")\n",
    "\n",
    "#Similar process for the urban layer\n",
    "tatorter_1980 = geopandas.read_file(\n",
    "    WFS_BASE_URL.format(layer= \"stat:Tatorter.1980\")\n",
    ").set_crs(\"EPSG:3006\")\n",
    "\n",
    "# Display the first few rows of the data\n",
    "print(tatorter_1980.head())"
   ]
  },
  {
   "cell_type": "code",
   "execution_count": null,
   "id": "ddcac0c3-6e2e-4ed5-b9a7-0faf2028fceb",
   "metadata": {},
   "outputs": [],
   "source": [
    "urban_areas = tatorter_1980[[\"kommunnamn\", \"bef\", \"geometry\"]]\n",
    "urban_areas = urban_areas.rename(columns={\n",
    "    \"bef\": \"population\"\n",
    "})"
   ]
  },
  {
   "cell_type": "code",
   "execution_count": null,
   "id": "3ebfd72e-ee92-4969-b519-7d4a5706fbb3",
   "metadata": {},
   "outputs": [],
   "source": [
    "urban_areas.head()"
   ]
  },
  {
   "cell_type": "markdown",
   "id": "b8d7b13d-26f5-4ee6-b8df-fe04033b19b5",
   "metadata": {},
   "source": [
    "**Creating Thematic Maps with `folium.Choropleth`**\n",
    "\n",
    "To visualize the population distribution, we'll employ the `folium.Choropleth` class. Choropleth maps extend beyond mere representations of polygon geometries — akin to those we showcased using the `folium.features.GeoJson` layer for addressing points previously. This powerful class adeptly manages data categorization, incorporates a legend, and executes several minor yet impactful tasks to  generate robust thematic maps.\n",
    "\n",
    "**Key Expectations of the `folium.Choropleth` Class:**\n",
    "\n",
    "- **Distinct Data Handling**: It requires a dataset featuring an explicitly defined, string-type index column. This prerequisite stems from its design to consider geospatial and thematic inputs as two distinct datasets that necessitate merging.\n",
    "  \n",
    "  To illustrate, we will delve into specifying both `geo_data` and `data` in subsequent steps.\n",
    "\n",
    "- **Efficient Data Indexing Strategy**: An effective method to meet this requirement involves duplicating the DataFrame's index into a new column, named `id` for instance. This technique ensures a seamless integration of geospatial shapes with their corresponding thematic data, enabling a richer and more informative map visualization.\n",
    "\n",
    "By following these guidelines, we can leverage `folium.Choropleth` to its full potential, creating maps that are not only visually appealing but also rich in information and easy to interpret.\n"
   ]
  },
  {
   "cell_type": "code",
   "execution_count": null,
   "id": "72e3dc25-4016-4dee-a1d4-ffe965560e06",
   "metadata": {},
   "outputs": [],
   "source": [
    "urban_areas[\"id\"] = urban_areas.index.astype(str)"
   ]
  },
  {
   "cell_type": "code",
   "execution_count": null,
   "id": "b9655a0e-f33c-4482-bc2e-87125b1979a5",
   "metadata": {},
   "outputs": [],
   "source": [
    "urban_areas.head()"
   ]
  },
  {
   "cell_type": "markdown",
   "id": "ea0c4b1c-5c81-46a2-8803-0f7f80b66b74",
   "metadata": {},
   "source": [
    "**Adding a Polygon Choropleth Layer with Folium**\n",
    "\n",
    "Creating a choropleth layer involves integrating both geospatial and thematic datasets into a map. Folium's architecture, while robust, requires careful attention to the parameters we provide:\n",
    "\n",
    "- **`geo_data` and `data`**: These parameters represent the geospatial and thematic datasets, respectively. Interestingly, both can point to the same `geopandas.GeoDataFrame` if it contains all necessary information.\n",
    "\n",
    "- **`columns`**: This is a tuple specifying two critical columns within the `data` dataset:\n",
    "  1. A unique index column that uniquely identifies each feature.\n",
    "  2. The column containing the thematic data intended for visualization.\n",
    "\n",
    "- **`key_on`**: This parameter designates which column in `geo_data` will be used to join with the `data`. It effectively matches the first element of the `columns` tuple, ensuring a proper linkage between the geospatial shapes and the thematic data.\n"
   ]
  },
  {
   "cell_type": "code",
   "execution_count": 2,
   "id": "f8b5c86b-3798-425e-b838-cc2d245321ae",
   "metadata": {},
   "outputs": [
    {
     "ename": "NameError",
     "evalue": "name 'folium' is not defined",
     "output_type": "error",
     "traceback": [
      "\u001b[1;31m---------------------------------------------------------------------------\u001b[0m",
      "\u001b[1;31mNameError\u001b[0m                                 Traceback (most recent call last)",
      "Cell \u001b[1;32mIn[2], line 1\u001b[0m\n\u001b[1;32m----> 1\u001b[0m interactive_map \u001b[38;5;241m=\u001b[39m \u001b[43mfolium\u001b[49m\u001b[38;5;241m.\u001b[39mMap(\n\u001b[0;32m      2\u001b[0m     location\u001b[38;5;241m=\u001b[39m(\u001b[38;5;241m59.3499\u001b[39m, \u001b[38;5;241m18.0703\u001b[39m),\n\u001b[0;32m      3\u001b[0m     zoom_start\u001b[38;5;241m=\u001b[39m\u001b[38;5;241m12\u001b[39m\n\u001b[0;32m      4\u001b[0m )\n\u001b[0;32m      6\u001b[0m urban_areas_layer \u001b[38;5;241m=\u001b[39m folium\u001b[38;5;241m.\u001b[39mChoropleth(\n\u001b[0;32m      7\u001b[0m     geo_data\u001b[38;5;241m=\u001b[39murban_areas,\n\u001b[0;32m      8\u001b[0m     data\u001b[38;5;241m=\u001b[39murban_areas,\n\u001b[0;32m      9\u001b[0m     columns\u001b[38;5;241m=\u001b[39m(\u001b[38;5;124m\"\u001b[39m\u001b[38;5;124mid\u001b[39m\u001b[38;5;124m\"\u001b[39m, \u001b[38;5;124m\"\u001b[39m\u001b[38;5;124mpopulation\u001b[39m\u001b[38;5;124m\"\u001b[39m),\n\u001b[0;32m     10\u001b[0m     key_on\u001b[38;5;241m=\u001b[39m\u001b[38;5;124m\"\u001b[39m\u001b[38;5;124mfeature.id\u001b[39m\u001b[38;5;124m\"\u001b[39m\n\u001b[0;32m     11\u001b[0m )\n\u001b[0;32m     12\u001b[0m urban_areas_layer\u001b[38;5;241m.\u001b[39madd_to(interactive_map)\n",
      "\u001b[1;31mNameError\u001b[0m: name 'folium' is not defined"
     ]
    }
   ],
   "source": [
    "interactive_map = folium.Map(\n",
    "    location=(59.3499, 18.0703),\n",
    "    zoom_start=12\n",
    ")\n",
    "\n",
    "urban_areas_layer = folium.Choropleth(\n",
    "    geo_data=urban_areas,\n",
    "    data=urban_areas,\n",
    "    columns=(\"id\", \"population\"),\n",
    "    key_on=\"feature.id\"\n",
    ")\n",
    "urban_areas_layer.add_to(interactive_map)\n",
    "\n",
    "interactive_map"
   ]
  },
  {
   "cell_type": "code",
   "execution_count": null,
   "id": "3b3520f6-57fc-4578-92d6-f3b6a0c706bd",
   "metadata": {
    "scrolled": true
   },
   "outputs": [],
   "source": [
    "interactive_map = folium.Map(\n",
    "    location=(59.3499, 18.0703),\n",
    "    zoom_start=12\n",
    ")\n",
    "\n",
    "urban_areas_layer = folium.Choropleth(\n",
    "    geo_data=urban_areas,\n",
    "    data=urban_areas,\n",
    "    columns=(\"id\", \"population\"),\n",
    "    key_on=\"feature.id\",\n",
    "    bins=8,\n",
    "    fill_color=\"BuPu\",\n",
    "    line_weight=1,\n",
    "    legend_name=\"Urban Population, 1980\",\n",
    "    highlight=True\n",
    ")\n",
    "urban_areas_layer.add_to(interactive_map)\n",
    "\n",
    "interactive_map"
   ]
  },
  {
   "cell_type": "code",
   "execution_count": null,
   "id": "4ad47618-5ec4-40ff-bda3-cdcace11a3ef",
   "metadata": {
    "scrolled": true
   },
   "outputs": [],
   "source": [
    "\n",
    "from folium.features import GeoJsonTooltip\n",
    "\n",
    "# Your existing Choropleth map creation code\n",
    "interactive_map = folium.Map(\n",
    "    location=(59.3499, 18.0703),\n",
    "    zoom_start=12\n",
    ")\n",
    "\n",
    "urban_areas_layer = folium.Choropleth(\n",
    "    geo_data=urban_areas,\n",
    "    data=urban_areas,\n",
    "    columns=(\"id\", \"population\"),\n",
    "    key_on=\"feature.id\",\n",
    "    bins=8,\n",
    "    fill_color=\"BuPu\",\n",
    "    line_weight=0.5,\n",
    "    legend_name=\"Urban Population, 1980\",\n",
    "    highlight=True\n",
    ")\n",
    "urban_areas_layer.add_to(interactive_map)\n",
    "\n",
    "# Adding mouseover tooltip\n",
    "\n",
    "def style_function(feature):\n",
    "    return {\n",
    "        'fillColor': '#ffffff',  # Transparent fill\n",
    "        'color': 'black',  # Border color\n",
    "        'weight': 0.5,  # Border width\n",
    "        'fillOpacity': 0.0,  # Make fill fully transparent\n",
    "    }\n",
    "tooltip_layer = folium.GeoJson(\n",
    "    urban_areas,\n",
    "    style_function=style_function,  # Apply custom style\n",
    "    name=\"Urban Areas\",\n",
    "    tooltip=GeoJsonTooltip(\n",
    "        fields=['id', 'population'],\n",
    "        aliases=['ID: ', 'Population: '], \n",
    "        localize=True,\n",
    "         sticky=False,\n",
    "        labels=True,\n",
    "        max_width=50,\n",
    "    )\n",
    ")\n",
    "\n",
    "tooltip_layer.add_to(interactive_map)\n",
    "\n",
    "# Display the map\n",
    "interactive_map\n"
   ]
  },
  {
   "cell_type": "markdown",
   "id": "e2d65211-6a97-4193-a81d-123e4ae05ff1",
   "metadata": {},
   "source": [
    "Folium is just one of many packages that provide an easy way to create interactive maps using data stored in (geo-)pandas data frames. Other interesting libraries include:\n",
    "\n",
    "- [GeoViews](https://geoviews.org/), offering high-level building blocks for building complex geospatial plots more simply.\n",
    "- [Mapbox GL for Jupyter](https://github.com/mapbox/mapboxgl-jupyter), integrating the powerful Mapbox GL JS library with the Jupyter notebook environment for interactive mapping.\n",
    "- [Bokeh](https://bokeh.org/), a flexible Python library for creating interactive plots and maps that can easily be embedded in web applications.\n",
    "- [Plotly Express](https://plotly.com/python/plotly-express/), part of the Plotly graphing library, providing a simple syntax for creating complex plots including maps with minimal code.\n",
    "\n",
    "Each of these libraries has its unique features and strengths, making them worth exploring for different interactive mapping needs and scenarios.\n"
   ]
  },
  {
   "cell_type": "code",
   "execution_count": null,
   "id": "24567dae-73d1-4e07-a6c1-9560a814eb26",
   "metadata": {},
   "outputs": [],
   "source": [
    "interactive_map.save(HTML_DIRECTORY / \"fancy-map.html\")"
   ]
  },
  {
   "cell_type": "markdown",
   "id": "16ee7bf2-8fc3-4847-9409-de4dfd1b20e1",
   "metadata": {},
   "source": [
    "This lesson has adapted or reused material from the https://autogis-site.readthedocs.io/en/2022/course-info/license.html course under a Attribution-ShareAlike 4.0 International license (https://creativecommons.org/licenses/by-sa/4.0/)"
   ]
  },
  {
   "cell_type": "code",
   "execution_count": null,
   "id": "e0f985cc-793a-422f-8bce-04cff63016c4",
   "metadata": {},
   "outputs": [],
   "source": []
  }
 ],
 "metadata": {
  "kernelspec": {
   "display_name": "GeoPython",
   "language": "python",
   "name": "geopython"
  },
  "language_info": {
   "codemirror_mode": {
    "name": "ipython",
    "version": 3
   },
   "file_extension": ".py",
   "mimetype": "text/x-python",
   "name": "python",
   "nbconvert_exporter": "python",
   "pygments_lexer": "ipython3",
   "version": "3.10.14"
  }
 },
 "nbformat": 4,
 "nbformat_minor": 5
}
