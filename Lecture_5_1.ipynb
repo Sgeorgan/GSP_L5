{
 "cells": [
  {
   "cell_type": "markdown",
   "id": "03cbc3c0-40ec-47e5-816c-c80bf6d8d8d5",
   "metadata": {},
   "source": [
    "\r\n",
    "\r\n",
    "### Static Maps\r\n",
    "\r\n",
    "Over the past few weeks, we've been familiarizing ourselves with plotting basic static maps using [`geopandas.GeoDataFrame.plot()`](https://geopandas.org/en/stable/docs/reference/api/geopandas.GeoDataFrame.plot.html), as seen in lessons 2, 3, and 4. We've also learned that `geopandas.GeoDataFrame.plot()` leverages the [`matplotlib.pyplot`](https://matplotlib.org/stable/tutorials/introductory/pyplot.html) library, meaning most of `matplotlib`'s arguments and options can be utilized within `geopandas`.\r\n",
    "\r\n",
    "To refresh our understanding and skills in plotting maps, let's tackle a practical exercise: creating a static accessibility map of the Stockholm metropolitan area. This map will incorporate three layers—showing the area, roads, and metro lines—overlayed onto each other. **It's crucial to remember that all input datasets must be in the same coordinate system for accurate representation.**\r\n",
    "\r\n",
    "#### Step-by-Step Guide:\r\n",
    "\r\n",
    "1. **Verify Coordinate Systems**: Ensure that your datasets (Stockholm area, roads, and metro lines) are in the same coordinate system.\r\n",
    "2. **Load Datasets**: Use [`geopandas`](https://geopandas.org/) to load each dataset into a GeoDataFrame.\r\n",
    "3. **Plotting**: Begin by plotting the Stockholm area as your base layer. Then, overlay the roads and metro lines by using the `.plot()` method on each GeoDataFrame, adjusting the `ax` parameter to ensure they are correctly layered.\r\n",
    "4. **Customization**: Utilize [`matplotlib`](https://matplotlib.org/)'s styling options to enhance your map's readability and visual appeal. This could involve adjusting colors, setting line widths, and adding a legend.\r\n",
    "5. **Add Final Touches**: Don't forget to include a title, labels, and a legend for clarity and informatial analysis.\r",
    "g!\r\n",
    "\n",
    "\n",
    "Happy Mapping!\n"
   ]
  },
  {
   "cell_type": "markdown",
   "id": "113239d7-2338-4704-ade3-259ba793e554",
   "metadata": {},
   "source": [
    "### Data"
   ]
  },
  {
   "cell_type": "markdown",
   "id": "e4ed84e3-076f-46e7-a4ea-9db20c401862",
   "metadata": {},
   "source": [
    "We will use three different data sets:\n",
    "\n",
    "- An administrative deliniation of Sweden, [***DeSO**](https://www.scb.se/hitta-statistik/regional-statistik-och-kartor/regionala-indelningar/deso---demografiska-statistikomraden/): DeSO divides Sweden into 5,984 areas which at the start have between 700 and 2,700 inhabitants. The division takes into account the geographical conditions so that the boundaries, as far as possible, follow, for example, streets, waterways and railways. Important building blocks used to create DeSO are urban areas and electoral districts. Here we use the WFS services of the Swedish Statistical Agency (https://www.scb.se/) to load the layer over Stockholm, Sweden.\n",
    "  \n",
    "- A layer of urban areas/small towns [**Tätorter**](https://www.scb.se/vara-tjanster/oppna-data/oppna-geodata/tatorter/) for 1980, again extracted from the web services of the statistical agency. In Sweden, there are more than 2,000 urban areas. It's everything from places with at least 200 inhabitants, to big cities like Stockholm, Gothenburg and Malmö. Over 9 million people or 88 percent of the Swedish population live in an urban area."
   ]
  },
  {
   "cell_type": "code",
   "execution_count": null,
   "id": "b15e25a2-94af-4067-a233-0f3636081322",
   "metadata": {},
   "outputs": [],
   "source": [
    "import pathlib\n",
    "NOTEBOOK_PATH = pathlib.Path().resolve()\n",
    "DATA_DIRECTORY = NOTEBOOK_PATH / \"data\""
   ]
  },
  {
   "cell_type": "code",
   "execution_count": null,
   "id": "f74396a1-8993-45e8-a8a9-501d38334ebb",
   "metadata": {},
   "outputs": [],
   "source": [
    "import geopandas\n",
    "import ssl\n",
    "ssl._create_default_https_context = ssl._create_unverified_context\n",
    "\n",
    "# Define the base URL for the WFS request\n",
    "WFS_BASE_URL = (\n",
    "    \"http://geodata.scb.se/geoserver/stat/wfs\"\n",
    "    \"?service=wfs\"\n",
    "    \"&version=1.1.0\"\n",
    "    \"&request=GetFeature\"\n",
    "    \"&srsName=EPSG:3006\"\n",
    "    \"&typeName={layer:s}\"\n",
    ")\n",
    "\n",
    "# Specify the layer you're interested in\n",
    "# For this example, we use \"DeSO.2018\" \n",
    "\n",
    "# Fetch the data using GeoPandas\n",
    "deso = geopandas.read_file(\n",
    "    WFS_BASE_URL.format(layer=\"DeSO.2018\")\n",
    ").set_crs(\"EPSG:3006\")\n",
    "\n",
    "# Display the first few rows of the data\n",
    "print(deso.head())\n",
    "\n",
    "#Similar process for the urban layer\n",
    "tatorter_1980 = geopandas.read_file(\n",
    "    WFS_BASE_URL.format(layer= \"stat:Tatorter.1980\")\n",
    ").set_crs(\"EPSG:3006\")\n",
    "\n",
    "# Display the first few rows of the data\n",
    "print(tatorter_1980.head())"
   ]
  },
  {
   "cell_type": "markdown",
   "id": "efc2c125-f3ba-4f70-85db-40189010f178",
   "metadata": {},
   "source": [
    "Remember that different geo-data frames need to be in same coordinate system before plotting them in the same map. geopandas.GeoDataFrame.plot() does not reproject data automatically.\n",
    "\n",
    "You can always check it with a simple assert statement."
   ]
  },
  {
   "cell_type": "code",
   "execution_count": null,
   "id": "8db3286d-5d67-4a0f-98bf-e8b5e551aab1",
   "metadata": {},
   "outputs": [],
   "source": [
    "assert tatorter_1980.crs == deso.crs, \"Input data sets’ CRS differs\"\n"
   ]
  },
  {
   "cell_type": "markdown",
   "id": "8a6f455a-8ec7-4bf3-bfa6-0ea576df507d",
   "metadata": {},
   "source": [
    "If multiple data sets do not share a common CRS, first, figure out which CRS they have assigned (if any!), then transform the data into a common reference system:"
   ]
  },
  {
   "cell_type": "code",
   "execution_count": null,
   "id": "f8972f7f-727a-4495-86a5-c22958756b8e",
   "metadata": {},
   "outputs": [],
   "source": [
    "tatorter_1980.crs"
   ]
  },
  {
   "cell_type": "code",
   "execution_count": null,
   "id": "4dabceed-11a4-4bd4-bb81-721be5451388",
   "metadata": {},
   "outputs": [],
   "source": [
    "deso = deso.to_crs(tatorter_1980.crs)\n",
    "tatorter_1980 =tatorter_1980.to_crs(deso.crs)"
   ]
  },
  {
   "cell_type": "markdown",
   "id": "06210906-0b70-4371-b289-63cfa75e5b26",
   "metadata": {},
   "source": [
    "Let's complete the next steps:\n",
    "-  Visualise the 2 layers in a map using the geopandas.GeoDataFrame.plot() method \n",
    "\n",
    "- style them accordingly"
   ]
  },
  {
   "cell_type": "markdown",
   "id": "755a5daa-4fc9-450a-9e66-ab909a099cc7",
   "metadata": {},
   "source": [
    "Remember the following options that can be passed to `plot()`:\n",
    "\n",
    " While we have only 2 polygon layers in this case, remember that \n",
    "- **Style the polygon layer:**\n",
    "  - Define a classification scheme using the `scheme` parameter.\n",
    "  - Change the colour map using [cmap](https://matplotlib.org/stable/tutorials/colors/colormaps.html).\n",
    "  - Control the layer’s transparency with the `alpha` parameter (`0` is fully transparent, `1` is fully opaque).\n",
    "\n",
    "- **Style the line layers:**\n",
    "  - Adjust the line colour using [**colour**](https://matplotlib.org/stable/api/colors_api.html).\n",
    "  - Change the `linewidth`, as needed.\n",
    " \n",
    "- **Style the point layers:**\r\n",
    "  - Adjust the point size using the `markersize` parameter to control the visual prominence of each point on the map.\r\n",
    "  - Change the point color by specifying the `color` parameter. This allows for uniform coloring or can be based on an attribute using a color map. See [**color options**](https://matplotlib.org/stable/api/colors_api.html) for more details.\r\n",
    "  - Utilize the `marker` parameter to change the shape of the points. Matplotlib supports a variety of marker styles, which can be used to differentiate types of locations or data points visuallyerns\r\n",
    "\n",
    "\n",
    "The  canlayers have different e. In this case, the layers' extent is for the whole of Sweden but it won't always be like that.area). Use the axes (`ax`) methods `set_xlim()` and `set_ylim()` to set the horizontal and vertical extents of the map, for example, to a GeoDataFrame’s `total_bounds`.\n"
   ]
  },
  {
   "cell_type": "code",
   "execution_count": null,
   "id": "ae173709-e417-4858-8a01-119b66a1ea9f",
   "metadata": {},
   "outputs": [],
   "source": [
    "\n",
    "# Plotting the administrative units ('deso') with visible borders\n",
    "base = deso.plot(\n",
    "    figsize=(12, 8),\n",
    "    linewidth=0.05,  # Increase linewidth for visibility\n",
    "    edgecolor='black',  # Set edgecolor to black (or any contrasting color) for visibility\n",
    "    alpha=0.6,  # Maintain some transparency\n",
    "    color='white'  # Keep the base layer in white\n",
    ")\n",
    "\n",
    "# Overlaying the population values ('tatorter_1980') on the same plot\n",
    "tatorter_1980.plot(\n",
    "    ax=base,  # Ensure overlaying on the base plot\n",
    "    column='bef',  # 'bef' is the column name for population values\n",
    "    scheme='quantiles',\n",
    "    cmap='Spectral',\n",
    "    linewidth=0,  # Set to 0 or a small value to avoid cluttering the map \n",
    "    legend=False,  # Enable legend for population quantiles\n",
    "    alpha=0.75  # Keep the overlay semi-transparent to see the base layer beneath\n",
    ")\n",
    "\n",
    "# Remove axis display for a cleaner look\n",
    "base.set_axis_off()\n"
   ]
  },
  {
   "cell_type": "markdown",
   "id": "4fbff413-3afa-46e5-8ae6-d11dc0d22c65",
   "metadata": {},
   "source": [
    "### Map Legends\n",
    "\n",
    "To include a legend in your map, utilize the `legend=True` parameter during plotting.\n",
    "\n",
    "- For figures **without** a classification scheme, the legend will display as a color gradient bar. This legend is an instance of [`matplotlib.pyplot.colorbar.Colorbar`](https://matplotlib.org/stable/api/colorbar_api.html).\n",
    "- You can pass various arguments to customize the legend through `legend_kwds`. These arguments are directly passed to the colorbar instance.  Discover more about customizing your color bar by reviewing the [Colorbar documentation](https://matplotlib.org/stable/api/colorbar_api.html).\n",
    "  \n",
    "For example, to set the title of the legend, use the `label` property within `legend_kwds`:\n",
    "\n",
    "```python\n",
    "your_geodataframe.plot(\n",
    "    ...,\n",
    "    legend=True,\n",
    "    legend_kwds={'label': 'Your Legend Title Here'}\n",
    ")\n"
   ]
  },
  {
   "cell_type": "code",
   "execution_count": null,
   "id": "8f64c8cb-375d-4d9a-a026-8bf73246050c",
   "metadata": {},
   "outputs": [],
   "source": [
    "# Plotting the administrative units ('deso') with visible borders\n",
    "base = deso.plot(\n",
    "    figsize=(12, 8),\n",
    "    linewidth=0.05,  # Increase linewidth for visibility\n",
    "    edgecolor='black',  # Set edgecolor to black (or any contrasting color) for visibility\n",
    "    alpha=0.6,  # Maintain some transparency\n",
    "    color='white'  # Keep the base layer in white\n",
    ")\n",
    "\n",
    "# Overlaying the population values ('tatorter_1980') on the same plot\n",
    "tatorter_1980.plot(\n",
    "    ax=base,  # Ensure overlaying on the base plot\n",
    "    column='bef',  # 'bef' is the column name for population values\n",
    "    cmap='Spectral_r',\n",
    "    linewidth=0,  # Set to 0 or a small value to avoid cluttering the map \n",
    "    legend=True,  # Enable legend \n",
    "    legend_kwds={\"label\": \"Urban Population in 1980\"},\n",
    "    alpha=0.75  # Keep the overlay semi-transparent to see the base layer beneath\n",
    ")\n",
    "\n",
    "# Remove axis display for a cleaner look\n",
    "base.set_axis_off()\n"
   ]
  },
  {
   "cell_type": "markdown",
   "id": "20e31420-d02a-4f11-b4bf-80eab472065f",
   "metadata": {},
   "source": [
    "### Enhancing Your Map Legends\n",
    "\n",
    "For figures that utilize a classification scheme, `plot()` generates a [`matplotlib.legend.Legend`](https://matplotlib.org/stable/api/legend_api.html). While you can still use `legend_kwds` to customize your legend, the parameters slightly differ from those used with color bars. For instance, to set the legend title, you should use `title` instead of `label`:\n",
    "\n",
    "```python\n",
    "your_geodataframe.plot(\n",
    "    ...,\n",
    "    legend=True,\n",
    "    legend_kwds={'title': 'Your Legend Title Here'}\n",
    ")\n"
   ]
  },
  {
   "cell_type": "code",
   "execution_count": null,
   "id": "225288a6-0306-49d1-87fc-ae736c6e5403",
   "metadata": {
    "tags": []
   },
   "outputs": [],
   "source": [
    "# First, plot the 'deso' DataFrame to establish the base layer\n",
    "base = deso.plot(\n",
    "    figsize=(12, 8),\n",
    "    color='lightgrey',  # A neutral background color\n",
    "    linewidth=0.02,  # Visible borders for administrative units\n",
    "    edgecolor='black',  # Border color to enhance visibility\n",
    "    alpha=0.4  # Slightly transparent to allow overlay visibility\n",
    ")\n",
    "\n",
    "# Next, overlay the 'tatorter_1980' DataFrame on the same Axes object\n",
    "tatorter_1980.plot(\n",
    "    ax=base,  # Plot on the base layer\n",
    "    column=\"bef\",  # Column for urban population in 1980\n",
    "    cmap=\"Spectral_r\",  # Use the inverted color map for visual distinction\n",
    "    scheme='Quantiles',  # Classification scheme for the data\n",
    "    k=10,  # Number of classes\n",
    "    legend=True,  # Enable legend\n",
    "    legend_kwds={\n",
    "        'title': \"Urban Population in 1980\",  # Title for the legend\n",
    "        'loc': 'upper left',  # Position of the legend\n",
    "    },\n",
    "    linewidth=0,  # No border lines\n",
    "    alpha=0.8,  # Slightly transparent\n",
    ")\n",
    "\n",
    "base.set_axis_off()  # Hide the axis\n",
    "\n"
   ]
  },
  {
   "cell_type": "markdown",
   "id": "d9af29c5-f720-41d3-959a-9f37bf67acf8",
   "metadata": {},
   "source": [
    "### Customizing Your Legends\r\n",
    "\r\n",
    "Dive deeper into customizing your map legends by exploring the [`matplotlib.pyplot.legend.Legend` documentation](https://matplotlib.org/stable/api/legend_api.html). The `legend_kwds` dictionary allows you to pass a wide array of parameters directly to the legend, offering a plethora of customization options.\r\n",
    "\r\n",
    "Want to experiment with the layout of your legend? Consider this: to spread the legend across two columns, you can use the `ncol` keyword within `legend_kwds`. Here's how:\r\n",
    "\r\n",
    "```python\r\n",
    "your_geodataframe.plot(\r\n",
    "    ...,\r\n",
    "    legend=True,\r\n",
    "    legend_kwds={'title': 'Your Legend Title', 'ncol': 2}\r\n",
    ")\r\n"
   ]
  },
  {
   "cell_type": "code",
   "execution_count": null,
   "id": "2f40fc95-120f-4353-ade4-750f4cc355fc",
   "metadata": {},
   "outputs": [],
   "source": [
    "# First, plot the 'deso' DataFrame to establish the base layer\n",
    "base = deso.plot(\n",
    "    figsize=(12, 8),\n",
    "    color='lightgrey',  # A neutral background color\n",
    "    linewidth=0.02,  # Visible borders for administrative units\n",
    "    edgecolor='black',  # Border color to enhance visibility\n",
    "    alpha=0.4  # Slightly transparent to allow overlay visibility\n",
    ")\n",
    "\n",
    "# Next, overlay the 'tatorter_1980' DataFrame on the same Axes object\n",
    "tatorter_1980.plot(\n",
    "    ax=base,  # Plot on the base layer\n",
    "    column=\"bef\",  # Column for urban population in 1980\n",
    "    cmap=\"Spectral_r\",  # Use the inverted color map for visual distinction\n",
    "    scheme='Quantiles',  # Classification scheme for the data\n",
    "    k=10,  # Number of classes\n",
    "    legend=True,  # Enable legend\n",
    "    legend_kwds={\n",
    "        'title': \"Urban Population in 1980\",  # Title for the legend\n",
    "        'loc': 'upper left',\n",
    "        'ncol': 2# Position of the legend\n",
    "    },\n",
    "    linewidth=0,  # No border lines\n",
    "    alpha=0.8,  # Slightly transparent\n",
    ")\n",
    "\n",
    "base.set_axis_off()  # Hide the axis\n",
    "\n"
   ]
  },
  {
   "cell_type": "markdown",
   "id": "992ed17b-f006-4e7e-83d5-0bedd4be4ef6",
   "metadata": {},
   "source": [
    "### Adding a base map"
   ]
  },
  {
   "cell_type": "markdown",
   "id": "4573361e-7516-4be6-b9cd-8bfe2e98a773",
   "metadata": {},
   "source": [
    "For better orientation, it is often helpful to add a base map to a map plot. A base map, for instance, from map providers such as [OpenStreetMap](https://www.openstreetmap.org/#map=5/62.994/17.637) or [Stamen](https://maps.stamen.com/#terrain/12/37.7706/-122.3782), adds streets, place names, and other contextual information.\n",
    "\n",
    "The Python package contextily takes care of downloading the necessary map tiles and rendering them in a geopandas plot."
   ]
  },
  {
   "cell_type": "markdown",
   "id": "da8b5f14-82ad-4651-b51f-7bb0e5681514",
   "metadata": {},
   "source": [
    "Map tiles from online map providers are typically in Web Mercator projection (EPSG:3857, https://epsg.io/3857). It is generally advisable to transform all other layers to EPSG:3857, too."
   ]
  },
  {
   "cell_type": "code",
   "execution_count": null,
   "id": "d462b00d-7d97-44a3-a1a9-9931ddb41487",
   "metadata": {
    "tags": []
   },
   "outputs": [],
   "source": [
    "deso=deso.to_crs(\"EPSG:3857\")\n",
    "tatorter_1980=tatorter_1980.to_crs(\"EPSG:3857\")"
   ]
  },
  {
   "cell_type": "code",
   "execution_count": null,
   "id": "24d36414-cb32-4df4-9771-231492d835e5",
   "metadata": {
    "tags": []
   },
   "outputs": [],
   "source": [
    "deso.crs"
   ]
  },
  {
   "cell_type": "markdown",
   "id": "9d70d10a-28f9-4b4f-86fc-eefc0d9cedb9",
   "metadata": {},
   "source": [
    "To add a base map to an existing plot, use the [contextily.add_basemap()](https://contextily.readthedocs.io/en/latest/intro_guide.html) function, and supply the plot’s ax object obtained in an earlier step. By default, contextily uses the Stamen Terrain as a base map, but there are many other online maps to choose from. Any of the other contextily.providers (see link above) can be passed as a source to add_basemap(). For instance, use OpenStreetMap in its default Mapnik style:"
   ]
  },
  {
   "cell_type": "code",
   "execution_count": null,
   "id": "2acf89d4-2f97-41ee-ac52-43d09342b8cd",
   "metadata": {
    "tags": []
   },
   "outputs": [],
   "source": [
    "import matplotlib.pyplot as plt\n",
    "import contextily as ctx\n",
    "import geopandas as gpd\n",
    "# Step 4: Explicitly create a figure and axes\n",
    "fig, ax = plt.subplots(figsize=(12, 8))\n",
    "\n",
    "# Plot 'deso' as base layer\n",
    "deso.plot(\n",
    "    ax=ax,\n",
    "    color='lightgrey',\n",
    "    linewidth=0.02,\n",
    "    edgecolor='black',\n",
    "    alpha=0.7,\n",
    ")\n",
    "\n",
    "# Overlay 'tatorter_1980' with quantiles classification\n",
    "tatorter_1980.plot(\n",
    "    ax=ax,\n",
    "    column=\"bef\",\n",
    "    cmap=\"Spectral_r\",\n",
    "    scheme='Quantiles',\n",
    "    k=5,\n",
    "    legend=True,\n",
    "    legend_kwds={'title': \"Urban Population in 1980\", 'loc': 'upper right'},\n",
    "    linewidth=0,\n",
    "    alpha=0.8,\n",
    ")\n",
    "\n",
    "# Add the basemap\n",
    "ctx.add_basemap(ax, source=ctx.providers.OpenStreetMap.Mapnik)\n",
    "\n",
    "# Optional: Adjust the plot limits to the data extent if necessary\n",
    "ax.set_xlim(tatorter_1980.total_bounds[[0, 2]])\n",
    "ax.set_ylim(tatorter_1980.total_bounds[[1, 3]])\n",
    "\n",
    "# Show the plot\n",
    "plt.show()"
   ]
  },
  {
   "cell_type": "code",
   "execution_count": null,
   "id": "5bfc3baf-fe6f-4fd7-ac39-717f6144bb3c",
   "metadata": {},
   "outputs": [],
   "source": [
    "\n",
    "# Step 4: Explicitly create a figure and axes\n",
    "fig, ax = plt.subplots(figsize=(12, 8))\n",
    "\n",
    "\n",
    "# Overlay 'tatorter_1980' with quantiles classification\n",
    "tatorter_1980.plot(\n",
    "    ax=ax,\n",
    "    column=\"bef\",\n",
    "    cmap=\"Spectral_r\",\n",
    "    scheme='Quantiles',\n",
    "    k=5,\n",
    "    legend=True,\n",
    "    legend_kwds={'title': \"Urban Population in 1980\", 'loc': 'upper right'},\n",
    "    linewidth=0,\n",
    "    alpha=0.8,\n",
    ")\n",
    "\n",
    "# Add the basemap\n",
    "ctx.add_basemap(ax, source=ctx.providers.OpenStreetMap.Mapnik)\n",
    "\n",
    "# Optional: Adjust the plot limits to the data extent if necessary\n",
    "ax.set_xlim(tatorter_1980.total_bounds[[0, 2]])\n",
    "ax.set_ylim(tatorter_1980.total_bounds[[1, 3]])\n",
    "\n",
    "# Show the plot\n",
    "plt.show()"
   ]
  },
  {
   "cell_type": "markdown",
   "id": "9de8ad43-4ae6-4611-b488-78f75a71a594",
   "metadata": {},
   "source": [
    "In this zoom level, the benefits from using OpenStreetMap (such as place names) do not live to their full potential. Let’s look at a subset  of Sweden. Let's filter the dataset to visualize only the regions that contain the top 1% most populated urban areas."
   ]
  },
  {
   "cell_type": "code",
   "execution_count": null,
   "id": "afa107fc-dcdf-4f31-a932-953c1d251f07",
   "metadata": {
    "tags": []
   },
   "outputs": [],
   "source": [
    "\n",
    "import numpy as np\n",
    "\n",
    "\n",
    "# Step 1: Filter to include only the top 95% of population values\n",
    "# Calculate the 5th percentile value as the cutoff for the top 99%\n",
    "cutoff = tatorter_1980['bef'].quantile(0.995)\n",
    "\n",
    "# Filter the GeoDataFrame\n",
    "top_95_percent = tatorter_1980[tatorter_1980['bef'] > cutoff]\n",
    "\n",
    "# Plot this filtered data\n",
    "ax = top_95_percent.plot(\n",
    "    figsize=(12, 8),\n",
    "    column=\"bef\",\n",
    "    scheme=\"Quantiles\",\n",
    "    k=7,\n",
    "    cmap=\"Spectral_r\",\n",
    "    linewidth=0,\n",
    "    alpha=0.8,\n",
    "    legend=True,\n",
    "    legend_kwds={\"title\": \"Urban Population in 1980 (Top 95%)\"}\n",
    ")\n",
    "\n",
    "# Step 2: Adjust the plot limits to the filtered data extents\n",
    "\n",
    "\n",
    "# This effectively zooms in on the area of interest\n",
    "minx, miny, maxx, maxy = top_95_percent.total_bounds\n",
    "ax.set_xlim(minx, maxx)\n",
    "ax.set_ylim(miny, maxy)\n",
    "\n",
    "# Add a basemap with adjusted zoom to fit the extents of the filtered data\n",
    "ctx.add_basemap(\n",
    "    ax,\n",
    "    source=ctx.providers.OpenStreetMap.Mapnik,\n",
    "    # The zoom level is automatically adjusted to fit the extents\n",
    ")\n",
    "\n",
    "plt.show()\n"
   ]
  },
  {
   "cell_type": "code",
   "execution_count": null,
   "id": "c6d25d7a-b5d2-4872-947d-138d34a999a5",
   "metadata": {},
   "outputs": [],
   "source": [
    "\n",
    "\n",
    "# Filter to include only the top 99% of population values\n",
    "# Plot this filtered data\n",
    "ax =tatorter_1980[tatorter_1980['bef'] > tatorter_1980['bef'].quantile(0.999)].plot(\n",
    "    figsize=(12, 8),\n",
    "    column=\"bef\",\n",
    "    scheme=\"Quantiles\",\n",
    "    k=7,\n",
    "    cmap=\"Spectral_r\",\n",
    "    linewidth=0,\n",
    "    alpha=0.8,\n",
    "    legend=True,\n",
    "    legend_kwds={\"title\": \"Urban Population in 1980 (Top 99%)\",\n",
    "                \"loc\": \"upper left\"}\n",
    ")\n",
    "\n",
    "\n",
    "# Add a basemap with adjusted zoom to fit the extents of the filtered data\n",
    "ctx.add_basemap(\n",
    "    ax,\n",
    "    source=ctx.providers.OpenStreetMap.Mapnik,\n",
    "    # The zoom level is automatically adjusted to fit the extents\n",
    ")\n",
    "\n",
    "plt.show()"
   ]
  },
  {
   "cell_type": "code",
   "execution_count": null,
   "id": "0c0622b3-1020-43e0-b5b7-b1a24366b428",
   "metadata": {
    "tags": []
   },
   "outputs": [],
   "source": [
    "\n",
    "\n",
    "# Filter the 'tatorter_1980' GeoDataFrame for rows where 'kommunnamn' is 'Stockholm'\n",
    "stockholm_data = tatorter_1980[tatorter_1980['kommunnamn'] == 'Stockholm']\n",
    "\n",
    "\n",
    "# Initialize a plot with matplotlib\n",
    "fig, ax = plt.subplots(figsize=(12, 8))\n",
    "\n",
    "# Plot the filtered data\n",
    "stockholm_data.plot(\n",
    "    ax=ax,\n",
    "    color=\"red\",  # Use a single color to represent Stockholm\n",
    "    edgecolor=\"black\",\n",
    "    linewidth=0.005,\n",
    "    alpha=0.2,\n",
    ")\n",
    "\n",
    "# Add a basemap with adjusted zoom to fit the extents of the filtered data\n",
    "ctx.add_basemap(\n",
    "    ax,\n",
    "    source=ctx.providers.OpenStreetMap.Mapnik,\n",
    ")\n",
    "\n",
    "plt.show()\n"
   ]
  },
  {
   "cell_type": "markdown",
   "id": "7647e32a-f0e2-40d1-8145-5c6c1176bca7",
   "metadata": {},
   "source": [
    "Finally, we can modify the attribution (copyright notice) displayed in the bottom left of the map plot. Note that you should always respect the map providers’ terms of use, which typically include a data source attribution (contextily’s defaults take care of this). We can and should, however, add a data source for any layer we added, such as the travel time matrix data set:"
   ]
  },
  {
   "cell_type": "code",
   "execution_count": null,
   "id": "f701fa22-8d5c-4fb1-a7e3-c0c1a6f48350",
   "metadata": {
    "tags": []
   },
   "outputs": [],
   "source": [
    "\n",
    "# Filter the 'tatorter_1980' GeoDataFrame for rows where 'kommunnamn' is 'Stockholm'\n",
    "stockholm_data = tatorter_1980[tatorter_1980['kommunnamn'] == 'Stockholm']\n",
    "\n",
    "\n",
    "# Initialize a plot with matplotlib\n",
    "fig, ax = plt.subplots(figsize=(12, 8))\n",
    "\n",
    "# Plot the filtered data\n",
    "stockholm_data.plot(\n",
    "    ax=ax,\n",
    "    color=\"red\",  # Use a single color to represent Stockholm\n",
    "    edgecolor=\"black\",\n",
    "    linewidth=0.005,\n",
    "    alpha=0.2,\n",
    ")\n",
    "\n",
    "# Add a basemap with adjusted zoom to fit the extents of the filtered data\n",
    "ctx.add_basemap(\n",
    "    ax,\n",
    "    source=ctx.providers.OpenStreetMap.Mapnik,\n",
    "    attribution=(\n",
    "        \"Urban areas derived from SCB.SE, \"\n",
    "        \"map data (c) OpenStreetMap contributors\"\n",
    "    )\n",
    ")\n",
    "plt.show()\n"
   ]
  },
  {
   "cell_type": "code",
   "execution_count": null,
   "id": "882ac031-ca5f-4e6f-9734-a688829c96c4",
   "metadata": {},
   "outputs": [],
   "source": []
  },
  {
   "cell_type": "code",
   "execution_count": null,
   "id": "42ca203d-3fd4-4572-a761-41b1c7efe3e2",
   "metadata": {},
   "outputs": [],
   "source": []
  }
 ],
 "metadata": {
  "kernelspec": {
   "display_name": "Python (new_env_name)",
   "language": "python",
   "name": "new_env_name"
  },
  "language_info": {
   "codemirror_mode": {
    "name": "ipython",
    "version": 3
   },
   "file_extension": ".py",
   "mimetype": "text/x-python",
   "name": "python",
   "nbconvert_exporter": "python",
   "pygments_lexer": "ipython3",
   "version": "3.12.1"
  }
 },
 "nbformat": 4,
 "nbformat_minor": 5
}
